{
 "cells": [
  {
   "cell_type": "markdown",
   "metadata": {},
   "source": [
    "## 練習時間\n",
    "在小量的資料上，我們用眼睛就可以看得出來程式碼是否有跑出我們理想中的結果\n",
    "\n",
    "請嘗試想像一個你需要的資料結構 (裡面的值可以是隨機的)，然後用上述的方法把它變成 pandas DataFrame\n",
    "\n",
    "#### Ex: 想像一個 dataframe 有兩個欄位，一個是國家，一個是人口，求人口數最多的國家\n",
    "\n",
    "### Hints: [隨機產生數值](https://blog.csdn.net/christianashannon/article/details/78867204)"
   ]
  },
  {
   "cell_type": "code",
   "execution_count": 3,
   "metadata": {},
   "outputs": [],
   "source": [
    "import pandas as pd\n",
    "import numpy as np\n",
    "import random\n",
    "import os\n"
   ]
  },
  {
   "cell_type": "code",
   "execution_count": 151,
   "metadata": {},
   "outputs": [],
   "source": [
    "p1=random.randint(1000000,1000000000)\n",
    "p2=random.randint(1000000,1000000000)\n",
    "p3=random.randint(1000000,1000000000)\n",
    "p4=random.randint(1000000,1000000000)\n",
    "p5=random.randint(1000000,1000000000)\n",
    "p6=random.randint(1000000,1000000000)\n",
    "data = {'countries': [\"China\",\"Italy\",\"Germany\",\"Japan\",\"Korea\",\"Taiwan\"],\n",
    "        'population':[p1,p2,p3,p4,p5,p6]}\n",
    "cp=pd.DataFrame(data)\n",
    "cp.set_index(\"countries\",inplace=True)\n",
    "\n",
    "\n"
   ]
  },
  {
   "cell_type": "code",
   "execution_count": 153,
   "metadata": {},
   "outputs": [
    {
     "name": "stdout",
     "output_type": "stream",
     "text": [
      "           population\n",
      "countries            \n",
      "China       801564644\n",
      "Italy       447559067\n",
      "Germany     595271181\n",
      "Japan       190354930\n",
      "Korea       344364152\n",
      "Taiwan      382232150\n",
      "The most population countries : population    China\n",
      "dtype: object\n"
     ]
    }
   ],
   "source": [
    "print(cp)\n",
    "m=cp.idxmax(axis=0)\n",
    "print(\"The most population countries :\",cp.idxmax(axis=0))"
   ]
  },
  {
   "cell_type": "code",
   "execution_count": null,
   "metadata": {},
   "outputs": [],
   "source": []
  }
 ],
 "metadata": {
  "kernelspec": {
   "display_name": "Python 3",
   "language": "python",
   "name": "python3"
  },
  "language_info": {
   "codemirror_mode": {
    "name": "ipython",
    "version": 3
   },
   "file_extension": ".py",
   "mimetype": "text/x-python",
   "name": "python",
   "nbconvert_exporter": "python",
   "pygments_lexer": "ipython3",
   "version": "3.6.5"
  }
 },
 "nbformat": 4,
 "nbformat_minor": 2
}
